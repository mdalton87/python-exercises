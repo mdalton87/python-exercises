{
 "cells": [
  {
   "cell_type": "code",
   "execution_count": 63,
   "metadata": {},
   "outputs": [
    {
     "data": {
      "text/plain": [
       "True"
      ]
     },
     "execution_count": 63,
     "metadata": {},
     "output_type": "execute_result"
    }
   ],
   "source": [
    "# Define a function named is_two. It should accept one input and return True if the passed input is either the number or the string 2, False otherwise.\n",
    "\n",
    "def is_two(x):\n",
    "    return x == 2 or x == \"2\"\n",
    "\n",
    "# is_two(2)\n",
    "# is_two(\"2\")\n",
    "# is_two(1)"
   ]
  },
  {
   "cell_type": "code",
   "execution_count": 70,
   "metadata": {},
   "outputs": [
    {
     "data": {
      "text/plain": [
       "False"
      ]
     },
     "execution_count": 70,
     "metadata": {},
     "output_type": "execute_result"
    }
   ],
   "source": [
    "# Define a function named is_vowel. It should return True if the passed string is a vowel, False otherwise.\n",
    "\n",
    "def is_vowel(c):\n",
    "    return c.lower() in 'aeiou'\n",
    "\n",
    "is_vowel(' ')\n",
    "    "
   ]
  },
  {
   "cell_type": "code",
   "execution_count": 73,
   "metadata": {},
   "outputs": [
    {
     "data": {
      "text/plain": [
       "False"
      ]
     },
     "execution_count": 73,
     "metadata": {},
     "output_type": "execute_result"
    }
   ],
   "source": [
    "# Define a function named is_consonant. It should return True if the passed string is a consonant, False otherwise. Use your is_vowel function to accomplish this.\n",
    "\n",
    "def is_consonant(c):\n",
    "    return c.isalpha() and not is_vowel(c)\n",
    "       \n",
    "is_consonant('0')"
   ]
  },
  {
   "cell_type": "code",
   "execution_count": 80,
   "metadata": {},
   "outputs": [
    {
     "data": {
      "text/plain": [
       "'Tonday'"
      ]
     },
     "execution_count": 80,
     "metadata": {},
     "output_type": "execute_result"
    }
   ],
   "source": [
    "# Define a function that accepts a string that is a word. \n",
    "# The function should capitalize the first letter of the word if the word starts with a consonant.\n",
    "\n",
    "def capitalize_if_consonant(string):\n",
    "    first_letter = string[0]\n",
    "    if is_consonant(first_letter):\n",
    "        return string.capitalize()\n",
    "    else:\n",
    "        return string\n",
    "\n",
    "capitalize_if_consonant('tonday')\n"
   ]
  },
  {
   "cell_type": "code",
   "execution_count": 83,
   "metadata": {},
   "outputs": [
    {
     "name": "stdout",
     "output_type": "stream",
     "text": [
      "The tip should be: $ 4.64\n"
     ]
    }
   ],
   "source": [
    "# Define a function named calculate_tip. It should accept a tip percentage (a number between 0 and 1) \n",
    "# and the bill total, and return the amount to tip.\n",
    "\n",
    "def calculate_tip(tip_percentage, bill_total):\n",
    "    if tip_percentage > 1 and tip_percentage < 0:\n",
    "        print(\"Tip percentage should be between 0 and 1.\")\n",
    "    else:\n",
    "        return \"{:.2f}\".format(tip_percentage * bill_total)\n",
    "    \n",
    "    \n",
    "print(\"The tip should be: $\",calculate_tip(.15, 30.93))"
   ]
  },
  {
   "cell_type": "code",
   "execution_count": 85,
   "metadata": {},
   "outputs": [
    {
     "name": "stdout",
     "output_type": "stream",
     "text": [
      "82.13\n"
     ]
    }
   ],
   "source": [
    "# Define a function named apply_discount. \n",
    "# It should accept a original price, and a discount percentage, and return the price after the discount is applied.\n",
    "\n",
    "def apply_discount(original_price, discount_percentage):\n",
    "    if discount_percentage >= 1 and discount_percentage <= 0:\n",
    "        print(\"Discount percentage should be between 0 and 1.\")\n",
    "    else:\n",
    "        return round((original_price - (original_price * discount_percentage)), 2)\n",
    "\n",
    "print(apply_discount(96.62, .15))\n"
   ]
  },
  {
   "cell_type": "code",
   "execution_count": 86,
   "metadata": {},
   "outputs": [
    {
     "data": {
      "text/plain": [
       "1382170.0"
      ]
     },
     "execution_count": 86,
     "metadata": {},
     "output_type": "execute_result"
    }
   ],
   "source": [
    "# Define a function named handle_commas. \n",
    "# It should accept a string that is a number that contains commas in it as input, and return a number as output.\n",
    "\n",
    "def handle_commas(num_string):\n",
    "    return float(num_string.replace(\",\",\"\"))\n",
    "\n",
    "\n",
    "handle_commas(\"1,382,170\")\n",
    "    "
   ]
  },
  {
   "cell_type": "code",
   "execution_count": 55,
   "metadata": {},
   "outputs": [
    {
     "name": "stdout",
     "output_type": "stream",
     "text": [
      "D\n"
     ]
    }
   ],
   "source": [
    "# Define a function named get_letter_grade. \n",
    "# It should accept a number and return the letter grade associated with that number (A-F).\n",
    "\n",
    "def get_letter_grade(x):\n",
    "    if x >= 90:\n",
    "        return \"A\"\n",
    "    elif x >= 80:\n",
    "        return \"B\"\n",
    "    elif x >= 70:\n",
    "        return \"C\"\n",
    "    elif x >= 60:\n",
    "        return \"D\"\n",
    "    else:\n",
    "        return \"F\"\n",
    "\n",
    "print(get_letter_grade(65))"
   ]
  },
  {
   "cell_type": "code",
   "execution_count": 89,
   "metadata": {},
   "outputs": [
    {
     "name": "stdout",
     "output_type": "stream",
     "text": [
      "mstly hrmlss\n"
     ]
    }
   ],
   "source": [
    "# Define a function named remove_vowels that accepts a string and returns a string with all the vowels removed.\n",
    "\n",
    "def remove_vowels(string):\n",
    "    string = string.lower()\n",
    "    if not string:\n",
    "        return string\n",
    "    elif string[0] in 'aeiou':\n",
    "        return remove_vowels(string[1:])\n",
    "    return string[0] + remove_vowels(string[1:])\n",
    "    \n",
    "     \n",
    "print(remove_vowels(\"Mostly Harmless\"))\n",
    "\n"
   ]
  },
  {
   "cell_type": "code",
   "execution_count": 90,
   "metadata": {},
   "outputs": [
    {
     "data": {
      "text/plain": [
       "' m mnd blwn'"
      ]
     },
     "execution_count": 90,
     "metadata": {},
     "output_type": "execute_result"
    }
   ],
   "source": [
    "# Short version\n",
    "def remove_vowel_small(string):\n",
    "    return \"\".join([c for c in string if not is_vowel(c)])\n",
    "\n",
    "remove_vowel_small(\"i am mind blown\")"
   ]
  },
  {
   "cell_type": "code",
   "execution_count": 98,
   "metadata": {},
   "outputs": [
    {
     "name": "stdout",
     "output_type": "stream",
     "text": [
      "m0571y_h4m1355_42\n"
     ]
    }
   ],
   "source": [
    "# Define a function named normalize_name. \n",
    "# It should accept a string and return a valid python identifier, that is:\n",
    "\n",
    "#    - anything that is not a valid python identifier should be removed\n",
    "#    - leading and trailing whitespace should be removed\n",
    "#    - everything should be lowercase\n",
    "#    - spaces should be replaced with underscores\n",
    "\n",
    "def normalize_name(string):\n",
    "    # makes string lowercase, removes white space to left and right, and replaces spaces with underscores.\n",
    "    string = string.lower()\n",
    "    string = string.strip()\n",
    "    string = string.replace(\" \",\"_\")   \n",
    "    # This conditional statement removes all characters from the string eccept what is \"not in\"\n",
    "    if not string:\n",
    "        return string\n",
    "    elif string[0] not in 'abcdefghijklmnopqrstuvwxyz_1234567890':\n",
    "        return normalize_name(string[1:])\n",
    "    return string[0] + normalize_name(string[1:])\n",
    "\n",
    "#    output = ''\n",
    "#    for char in string:\n",
    "#        if char.isidentifier():\n",
    "#            output += char\n",
    "#    return output\n",
    "\n",
    "print(normalize_name(\"  #%!@M0571y H4m1355 #@!%42)(*&^ \"))\n",
    "\n",
    "    \n",
    "# abcdefghijklmnopqrstuvwxyz_1234567890"
   ]
  },
  {
   "cell_type": "code",
   "execution_count": 99,
   "metadata": {},
   "outputs": [
    {
     "data": {
      "text/plain": [
       "[1, 3, 6, 10, 15]"
      ]
     },
     "execution_count": 99,
     "metadata": {},
     "output_type": "execute_result"
    }
   ],
   "source": [
    "# Write a function named cumulative_sum \n",
    "# that accepts a list of numbers and returns a list that is the cumulative sum of the numbers in the list.\n",
    "\n",
    "def cumulative_sum(lst):\n",
    "    s = lst.copy()\n",
    "    for i in range(1, len(s)):\n",
    "        s[i] += s[i-1]\n",
    "    return s\n",
    "\n",
    "cumulative_sum([1, 1, 1])\n",
    "cumulative_sum([1, 2, 3, 4, 5])"
   ]
  },
  {
   "cell_type": "code",
   "execution_count": 14,
   "metadata": {},
   "outputs": [
    {
     "data": {
      "text/plain": [
       "'2325 hours'"
      ]
     },
     "execution_count": 14,
     "metadata": {},
     "output_type": "execute_result"
    }
   ],
   "source": [
    "# Create a function named twelveto24. \n",
    "# It should accept a string in the format 10:45am or 4:30pm and \n",
    "# return a string that is the representation of the \n",
    "# time in a 24-hour format. \n",
    "# Bonus write a function that does the opposite.\n",
    "\n",
    "# defines function to accept a string in 12-hour format to convert to 24 hour time\n",
    "# this is a bit over-kill but it looks nice\n",
    "def twelveto24(string):\n",
    "    # converting 1200 am to 0000 hours\n",
    "    if string[-2:] == \"am\" and string[:2] == \"12\":\n",
    "        return \"00\" + string[2:-2].replace(\":\", \"\") + \" hours\"\n",
    "    # checks whether times in the morning contain 4 digits (hh:mm) \n",
    "    elif len(string) == 6 and string[-2:] == \"am\":\n",
    "        # add 0, removes : and am, and adds hours\n",
    "        return \"0\" + string[:-2].replace(\":\", \"\") + \" hours\"\n",
    "    # times in the morning already containing 4 digits (hh:mm) \n",
    "    elif len(string) == 7 and string[-2:] == \"am\":\n",
    "        # removes : and am and adds hours\n",
    "        return string[:-2].replace(\":\", \"\") + \" hours\"\n",
    "    # converts noon into 24 hour time\n",
    "    elif string[-2:] == \"pm\" and string[:2] == \"12\":\n",
    "        # the 12 stays the same \n",
    "        return string[:-2].replace(\":\", \"\") + \" hours\"\n",
    "    # checks whether times after noon contain 4 digits (hh:mm) \n",
    "    elif len(string) == 6:\n",
    "        # converts time to hh:mm\n",
    "        string = \"0\" + string\n",
    "        # adds 12 to hh, removes : and pm, adds hours\n",
    "        return str(int(string[:2]) + 12) + string[2:-2].replace(\":\", \"\") + \" hours\"\n",
    "    else:\n",
    "        # returns the rest of the afternoon times ^\n",
    "        return str(int(string[:2]) + 12) + string[2:-2].replace(\":\", \"\") + \" hours\"\n",
    "     \n",
    "        \n",
    "twelveto24('11:25pm')"
   ]
  },
  {
   "cell_type": "code",
   "execution_count": null,
   "metadata": {},
   "outputs": [],
   "source": [
    "# Create a function named col_index. \n",
    "# It should accept a spreadsheet column name, \n",
    "# and return the index number of the column.\n",
    "\n",
    "def col_index()\n",
    "\n",
    "\n"
   ]
  },
  {
   "cell_type": "code",
   "execution_count": null,
   "metadata": {},
   "outputs": [],
   "source": []
  }
 ],
 "metadata": {
  "kernelspec": {
   "display_name": "Python 3",
   "language": "python",
   "name": "python3"
  },
  "language_info": {
   "codemirror_mode": {
    "name": "ipython",
    "version": 3
   },
   "file_extension": ".py",
   "mimetype": "text/x-python",
   "name": "python",
   "nbconvert_exporter": "python",
   "pygments_lexer": "ipython3",
   "version": "3.8.5"
  }
 },
 "nbformat": 4,
 "nbformat_minor": 4
}
