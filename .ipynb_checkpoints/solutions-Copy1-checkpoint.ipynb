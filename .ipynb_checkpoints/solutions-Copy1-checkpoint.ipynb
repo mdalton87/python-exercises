{
 "cells": [
  {
   "cell_type": "markdown",
   "metadata": {},
   "source": [
    "Write a function named ```isnegative```. It should accept a number and return a boolean value based on whether the input is negative."
   ]
  },
  {
   "cell_type": "code",
   "execution_count": 1,
   "metadata": {},
   "outputs": [],
   "source": [
    "def isnegative(x):\n",
    "    return x < 0"
   ]
  },
  {
   "cell_type": "markdown",
   "metadata": {},
   "source": [
    "Write a function named ```count_evens```. It should accept a list and return the number of even numbers in the list."
   ]
  },
  {
   "cell_type": "code",
   "execution_count": 2,
   "metadata": {},
   "outputs": [
    {
     "data": {
      "text/plain": [
       "3"
      ]
     },
     "execution_count": 2,
     "metadata": {},
     "output_type": "execute_result"
    }
   ],
   "source": [
    "def count_evens(num_list):\n",
    "    count = 0\n",
    "    for number in num_list:\n",
    "        if number % 2 == 0:\n",
    "            count += 1\n",
    "    return count\n"
   ]
  },
  {
   "cell_type": "markdown",
   "metadata": {},
   "source": [
    "Write a function named ```increment_odds```. It should accept a list of numbers and return a new list with the odd numbers from the original list incremented.\n",
    "\n"
   ]
  },
  {
   "cell_type": "code",
   "execution_count": 13,
   "metadata": {},
   "outputs": [
    {
     "data": {
      "text/plain": [
       "[8, 2, 2, 4, 6]"
      ]
     },
     "execution_count": 13,
     "metadata": {},
     "output_type": "execute_result"
    }
   ],
   "source": [
    "def increment_odds(myList):\n",
    "    result = []\n",
    "    for x in myList:\n",
    "        if x % 2 == 0:\n",
    "            result.append(x)\n",
    "        else:\n",
    "            result.append(x + 1)\n",
    "    return result\n"
   ]
  },
  {
   "cell_type": "markdown",
   "metadata": {},
   "source": [
    "Write a function named ```average```. It should accept a list of numbers and return the mean of the numbers."
   ]
  },
  {
   "cell_type": "code",
   "execution_count": 12,
   "metadata": {},
   "outputs": [
    {
     "data": {
      "text/plain": [
       "2.5"
      ]
     },
     "execution_count": 12,
     "metadata": {},
     "output_type": "execute_result"
    }
   ],
   "source": [
    "\n",
    "def average(list_of_numbers):\n",
    "    return float((sum(list_of_numbers) / len(list_of_numbers)))\n"
   ]
  },
  {
   "cell_type": "markdown",
   "metadata": {},
   "source": [
    "Create a function named name_to_dict. \n",
    "It should accept a string that is a first name and last name separated by a space, \n",
    "and return a dictionary with first_name and last_name keys.\n",
    "\n"
   ]
  },
  {
   "cell_type": "code",
   "execution_count": 34,
   "metadata": {},
   "outputs": [],
   "source": [
    "def name_to_dict(full_name):\n",
    "    "
   ]
  },
  {
   "cell_type": "markdown",
   "metadata": {},
   "source": [
    "Write a function named capitalize_names. It should accept a list of dictionaries where each dictionary represents a person and has keys first_name and last_name. It should return a list of dictionaries with each person's name capitalized.\n",
    "\n"
   ]
  },
  {
   "cell_type": "code",
   "execution_count": null,
   "metadata": {},
   "outputs": [],
   "source": [
    "def capitalize_name(names):\n",
    "    for name in names:\n",
    "        name['first_name'].append = name['first_name'].capitalize()\n",
    "        name['last_name'].append = name['last_name'].capitalize() \n",
    "    \n",
    "\n",
    "   "
   ]
  },
  {
   "cell_type": "markdown",
   "metadata": {},
   "source": [
    "Write a function named count_vowels. It should accept a word and return a number that is the number of vowels in the given word. \"y\" should not count as a vowel.\n",
    "\n"
   ]
  },
  {
   "cell_type": "code",
   "execution_count": 35,
   "metadata": {},
   "outputs": [
    {
     "data": {
      "text/plain": [
       "5"
      ]
     },
     "execution_count": 35,
     "metadata": {},
     "output_type": "execute_result"
    }
   ],
   "source": [
    "def count_vowels(string):\n",
    "    count = 0\n",
    "    string = string.lower()\n",
    "    for c in string:\n",
    "        if c in 'aeiou':\n",
    "            count += 1\n",
    "        else:\n",
    "            return count\n",
    "    return count\n"
   ]
  },
  {
   "cell_type": "markdown",
   "metadata": {},
   "source": [
    "Write a function named analyze_word. It should accept a string that is a word and return a dictionary with information about the word: the total number of characters in the word, the original word, and the number of vowels in the word.\n",
    "\n"
   ]
  },
  {
   "cell_type": "code",
   "execution_count": null,
   "metadata": {},
   "outputs": [],
   "source": [
    "def analyze_word(string):\n",
    "    "
   ]
  }
 ],
 "metadata": {
  "kernelspec": {
   "display_name": "Python 3",
   "language": "python",
   "name": "python3"
  },
  "language_info": {
   "codemirror_mode": {
    "name": "ipython",
    "version": 3
   },
   "file_extension": ".py",
   "mimetype": "text/x-python",
   "name": "python",
   "nbconvert_exporter": "python",
   "pygments_lexer": "ipython3",
   "version": "3.8.5"
  }
 },
 "nbformat": 4,
 "nbformat_minor": 4
}
