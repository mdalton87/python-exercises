{
 "cells": [
  {
   "cell_type": "code",
   "execution_count": 1,
   "metadata": {},
   "outputs": [
    {
     "name": "stdout",
     "output_type": "stream",
     "text": [
      "All Done!\n",
      "2.0\n",
      "Wait 5 seconds!\n",
      "OK, you may go now!\n"
     ]
    }
   ],
   "source": [
    "# Import and test 3 of the functions from your functions exercise file.\n",
    "\n",
    "#. Import each function in a different way:\n",
    "#. \n",
    "#. import the module and refer to the function with the . syntax\n",
    "#. use from to import the function directly\n",
    "#. use from and give the function a different name\n",
    "\n",
    "import time \n",
    "import math as m\n",
    "from time import sleep as hold_up\n",
    "\n",
    "time.sleep(1)\n",
    "print('All Done!')\n",
    "\n",
    "print(m.sqrt(4))\n",
    "\n",
    "print(\"Wait 5 seconds!\")\n",
    "hold_up(5)\n",
    "print(\"OK, you may go now!\")\n"
   ]
  },
  {
   "cell_type": "code",
   "execution_count": 2,
   "metadata": {},
   "outputs": [
    {
     "name": "stdout",
     "output_type": "stream",
     "text": [
      "('a', 'b')\n",
      "('a', 'c')\n",
      "('a', 1)\n",
      "('a', 2)\n",
      "('a', 3)\n",
      "('b', 'c')\n",
      "('b', 1)\n",
      "('b', 2)\n",
      "('b', 3)\n",
      "('c', 1)\n",
      "('c', 2)\n",
      "('c', 3)\n",
      "(1, 2)\n",
      "(1, 3)\n",
      "(2, 3)\n"
     ]
    },
    {
     "data": {
      "text/plain": [
       "15"
      ]
     },
     "execution_count": 2,
     "metadata": {},
     "output_type": "execute_result"
    }
   ],
   "source": [
    "# For the following exercises: \n",
    "# read about and use the itertools module from the standard library to help you solve the problem.\n",
    "import itertools as it\n",
    "from itertools import combinations \n",
    "\n",
    "# 1. How many different ways can you combine the letters from \"abc\" with the numbers 1, 2, and 3?\n",
    "\n",
    "letters = ['a', 'b', 'c']\n",
    "numbers = [1, 2, 3]\n",
    "\n",
    "def combining_lists(list1, list2):\n",
    "    combo = list1 + list2\n",
    "    count = 0\n",
    "    for i in it.combinations(combo, 2):\n",
    "        print(i)\n",
    "        count += 1\n",
    "    return count\n",
    "\n",
    "combining_lists(letters, numbers)\n",
    "\n",
    "    \n"
   ]
  },
  {
   "cell_type": "code",
   "execution_count": 3,
   "metadata": {},
   "outputs": [
    {
     "name": "stdout",
     "output_type": "stream",
     "text": [
      "('a', 'a')\n",
      "('a', 'b')\n",
      "('a', 'c')\n",
      "('a', 'd')\n",
      "('b', 'b')\n",
      "('b', 'c')\n",
      "('b', 'd')\n",
      "('c', 'c')\n",
      "('c', 'd')\n",
      "('d', 'd')\n"
     ]
    },
    {
     "data": {
      "text/plain": [
       "10"
      ]
     },
     "execution_count": 3,
     "metadata": {},
     "output_type": "execute_result"
    }
   ],
   "source": [
    "# 2. How many different ways can you combine two of the letters from \"abcd\"?\n",
    "\n",
    "import itertools as it\n",
    "from itertools import combinations_with_replacement\n",
    "\n",
    "letters2 = [\"a\", \"b\", \"c\", \"d\"]\n",
    "\n",
    "def number_of_possibilities(list):\n",
    "    count = 0\n",
    "    for i in it.combinations_with_replacement(list, 2):\n",
    "        print(i)\n",
    "        count += 1\n",
    "    return count\n",
    "\n",
    "number_of_possibilities(letters2)"
   ]
  },
  {
   "cell_type": "code",
   "execution_count": 4,
   "metadata": {},
   "outputs": [
    {
     "data": {
      "text/plain": [
       "9"
      ]
     },
     "execution_count": 4,
     "metadata": {},
     "output_type": "execute_result"
    }
   ],
   "source": [
    "len(list(it.product([1, 2, 3], 'abc')))"
   ]
  },
  {
   "cell_type": "code",
   "execution_count": 5,
   "metadata": {},
   "outputs": [
    {
     "data": {
      "text/plain": [
       "6"
      ]
     },
     "execution_count": 5,
     "metadata": {},
     "output_type": "execute_result"
    }
   ],
   "source": [
    "len(list(it.combinations('abcd', 2)))"
   ]
  },
  {
   "cell_type": "code",
   "execution_count": 6,
   "metadata": {},
   "outputs": [],
   "source": [
    "# Save this file as profiles.json inside of your exercises directory. \n",
    "# Use the load function from the json module to open this file, it will produce a list of dictionaries.\n",
    "# Using this data, write some code that calculates and outputs the following information:\n",
    "\n",
    "import json\n",
    "\n",
    "\n",
    "with open('profiles.json') as profiles:\n",
    "    profiles = json.load(profiles)\n",
    "\n"
   ]
  },
  {
   "cell_type": "code",
   "execution_count": 7,
   "metadata": {},
   "outputs": [
    {
     "data": {
      "text/plain": [
       "19"
      ]
     },
     "execution_count": 7,
     "metadata": {},
     "output_type": "execute_result"
    }
   ],
   "source": [
    "# Total number of users\n",
    "len(profiles)"
   ]
  },
  {
   "cell_type": "code",
   "execution_count": 8,
   "metadata": {},
   "outputs": [
    {
     "data": {
      "text/plain": [
       "9"
      ]
     },
     "execution_count": 8,
     "metadata": {},
     "output_type": "execute_result"
    }
   ],
   "source": [
    "# Number of active users\n",
    "\n",
    "len([profile for profile in profiles if profile['isActive']])"
   ]
  },
  {
   "cell_type": "code",
   "execution_count": 9,
   "metadata": {},
   "outputs": [
    {
     "data": {
      "text/plain": [
       "10"
      ]
     },
     "execution_count": 9,
     "metadata": {},
     "output_type": "execute_result"
    }
   ],
   "source": [
    "# Number of inactive users\n",
    "\n",
    "len([profile for profile in profiles if not profile['isActive']])"
   ]
  },
  {
   "cell_type": "code",
   "execution_count": 10,
   "metadata": {},
   "outputs": [],
   "source": [
    "def handle_commas(num_string):\n",
    "    return float(num_string.replace(\",\",\"\").replace(\"$\",\"\"))\n"
   ]
  },
  {
   "cell_type": "code",
   "execution_count": 11,
   "metadata": {},
   "outputs": [
    {
     "data": {
      "text/plain": [
       "52667.02"
      ]
     },
     "execution_count": 11,
     "metadata": {},
     "output_type": "execute_result"
    }
   ],
   "source": [
    "# Grand total of balances for all users \n",
    "\n",
    "balance_list = [handle_commas(d['balance']) for d in profiles]\n",
    "\n",
    "sum(balance_list)"
   ]
  },
  {
   "cell_type": "code",
   "execution_count": 12,
   "metadata": {},
   "outputs": [
    {
     "data": {
      "text/plain": [
       "2771.95"
      ]
     },
     "execution_count": 12,
     "metadata": {},
     "output_type": "execute_result"
    }
   ],
   "source": [
    "# Average balance per user\n",
    "\n",
    "round((sum(balance_list) / len(profiles)), 2)"
   ]
  },
  {
   "cell_type": "code",
   "execution_count": 13,
   "metadata": {},
   "outputs": [
    {
     "name": "stdout",
     "output_type": "stream",
     "text": [
      "Avery Flynn\n"
     ]
    },
    {
     "data": {
      "text/plain": [
       "1214.1"
      ]
     },
     "execution_count": 13,
     "metadata": {},
     "output_type": "execute_result"
    }
   ],
   "source": [
    "# User with the lowest balance\n",
    "user_with_lowest_balance = profiles[0]\n",
    "\n",
    "for profile in profiles[1:]:\n",
    "    if handle_commas(profile['balance']) < handle_commas(user_with_lowest_balance['balance']):\n",
    "        user_with_lowest_balance = profile\n",
    "\n",
    "print(user_with_lowest_balance['name'])\n",
    "\n",
    "min(balance_list)"
   ]
  },
  {
   "cell_type": "code",
   "execution_count": 14,
   "metadata": {},
   "outputs": [
    {
     "name": "stdout",
     "output_type": "stream",
     "text": [
      "Fay Hammond\n"
     ]
    },
    {
     "data": {
      "text/plain": [
       "3919.64"
      ]
     },
     "execution_count": 14,
     "metadata": {},
     "output_type": "execute_result"
    }
   ],
   "source": [
    "# User with the highest balance\n",
    "user_with_highest_balance = profiles[0]\n",
    "\n",
    "for profile in profiles[1:]:\n",
    "    if handle_commas(profile['balance']) > handle_commas(user_with_highest_balance['balance']):\n",
    "        user_with_highest_balance = profile\n",
    "\n",
    "print(user_with_highest_balance['name'])\n",
    "max(balance_list)"
   ]
  },
  {
   "cell_type": "code",
   "execution_count": 15,
   "metadata": {},
   "outputs": [
    {
     "data": {
      "text/plain": [
       "Counter({'strawberry': 9, 'apple': 4, 'banana': 6})"
      ]
     },
     "execution_count": 15,
     "metadata": {},
     "output_type": "execute_result"
    }
   ],
   "source": [
    "# Most common favorite fruit\n",
    "# Least most common favorite fruit\n",
    "\n",
    "import itertools as it\n",
    "from collections import Counter\n",
    "\n",
    "favoriteFruit_list = [d['favoriteFruit'] for d in profiles]\n",
    "\n",
    "Counter(favoriteFruit_list)"
   ]
  },
  {
   "cell_type": "code",
   "execution_count": 16,
   "metadata": {},
   "outputs": [],
   "source": [
    "def normalize_name(string):\n",
    "    # makes string lowercase, removes white space to left and right, and replaces spaces with underscores.\n",
    "    string = string.lower()\n",
    "    string = string.strip()  \n",
    "    # This conditional statement removes all characters from the string eccept what is \"not in\"\n",
    "    if not string:\n",
    "        return string\n",
    "    elif string[0] not in '1234567890':\n",
    "        return normalize_name(string[1:])\n",
    "    return string[0] + normalize_name(string[1:])\n",
    "        \n",
    "def extract_digits(s):\n",
    "    return \"\".join([c for c in s if c.isdigits()])"
   ]
  },
  {
   "cell_type": "code",
   "execution_count": 18,
   "metadata": {},
   "outputs": [
    {
     "data": {
      "text/plain": [
       "210"
      ]
     },
     "execution_count": 18,
     "metadata": {},
     "output_type": "execute_result"
    }
   ],
   "source": [
    "# Total number of unread messages for all users\n",
    "\n",
    "greeting_list = [int(normalize_name(d['greeting'])) for d in profiles]\n",
    "\n",
    "total_number_of_unread_messages = (sum(greeting_list))\n",
    "\n",
    "total_number_of_unread_messages"
   ]
  },
  {
   "cell_type": "code",
   "execution_count": null,
   "metadata": {},
   "outputs": [],
   "source": []
  }
 ],
 "metadata": {
  "kernelspec": {
   "display_name": "Python 3",
   "language": "python",
   "name": "python3"
  },
  "language_info": {
   "codemirror_mode": {
    "name": "ipython",
    "version": 3
   },
   "file_extension": ".py",
   "mimetype": "text/x-python",
   "name": "python",
   "nbconvert_exporter": "python",
   "pygments_lexer": "ipython3",
   "version": "3.8.5"
  }
 },
 "nbformat": 4,
 "nbformat_minor": 4
}
