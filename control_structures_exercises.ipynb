{
 "cells": [
  {
   "cell_type": "code",
   "execution_count": null,
   "metadata": {},
   "outputs": [],
   "source": [
    "# Conditional Basics\n",
    "\n",
    "# a. prompt the user for a day of the week, print out whether the day is Monday or not\n",
    "# b. prompt the user for a day of the week, print out whether the day is a weekday or a weekend\n",
    "\n",
    "x = input(\"What's your favorite day of the week? \")\n",
    "\n",
    "if x.lower() == \"Monday\":\n",
    "    print(\".... but Monday sucks....\")\n",
    "elif x.lower() == \"tuesday\" or x.lower() == \"wednesday\" or x.lower() == \"thursday\" or x.lower() == \"friday\":\n",
    "    print(\"not a bad weekday choice!\") \n",
    "elif x.lower() == \"saturday\" or x.lower() == \"sunday\":\n",
    "    print(\"Duh! It's the weekend!\")\n",
    "else:\n",
    "    print(\"That is not a day of the week!\")\n",
    "\n"
   ]
  },
  {
   "cell_type": "code",
   "execution_count": 17,
   "metadata": {},
   "outputs": [
    {
     "name": "stdout",
     "output_type": "stream",
     "text": [
      "2450.0\n"
     ]
    }
   ],
   "source": [
    "# c. create variables and make up values for\n",
    "#     - the number of hours worked in one week\n",
    "#     - the hourly rate\n",
    "#     - how much the week's paycheck will be\n",
    "\n",
    "hours_worked_in_one_week = 41\n",
    "pay_per_hour = 35\n",
    "std_work_week = 40\n",
    "weeks_pay = std_work_week * pay_per_hour\n",
    "\n",
    "#   write the python code that calculates the weekly paycheck. You get paid time and a half if you work more than 40 hours\n",
    "\n",
    "if hours_worked_in_one_week <= std_work_week:\n",
    "    print(weeks_pay)\n",
    "elif hours_worked_in_one_week > std_work_week:\n",
    "    overtime_pay = (weeks_pay + ((hours_worked_in_one_week - std_work_week) * (pay_per_hour * 1.5)))\n",
    "\n",
    "print(overtime_pay)"
   ]
  },
  {
   "cell_type": "code",
   "execution_count": 20,
   "metadata": {},
   "outputs": [
    {
     "name": "stdout",
     "output_type": "stream",
     "text": [
      "6\n",
      "7\n",
      "8\n",
      "9\n",
      "10\n",
      "11\n",
      "12\n",
      "13\n",
      "14\n",
      "15\n"
     ]
    }
   ],
   "source": [
    "# 2. Loop Basics\n",
    "\n",
    "# a. While\n",
    "#     - Create an integer variable i with a value of 5.\n",
    "#.    - Create a while loop that runs so long as i is less than or equal to 15\n",
    "#     - Each loop iteration, output the current value of i, then increment i by one.\n",
    "\n",
    "i = 5\n",
    "\n",
    "while i < 15:\n",
    "    i += 1\n",
    "    print(i)\n"
   ]
  },
  {
   "cell_type": "code",
   "execution_count": 29,
   "metadata": {},
   "outputs": [
    {
     "name": "stdout",
     "output_type": "stream",
     "text": [
      "0\n",
      "2\n",
      "4\n",
      "6\n",
      "8\n",
      "10\n",
      "12\n",
      "14\n",
      "16\n",
      "18\n",
      "20\n",
      "22\n",
      "24\n",
      "26\n",
      "28\n",
      "30\n",
      "32\n",
      "34\n",
      "36\n",
      "38\n",
      "40\n",
      "42\n",
      "44\n",
      "46\n",
      "48\n",
      "50\n",
      "52\n",
      "54\n",
      "56\n",
      "58\n",
      "60\n",
      "62\n",
      "64\n",
      "66\n",
      "68\n",
      "70\n",
      "72\n",
      "74\n",
      "76\n",
      "78\n",
      "80\n",
      "82\n",
      "84\n",
      "86\n",
      "88\n",
      "90\n",
      "92\n",
      "94\n",
      "96\n",
      "98\n",
      "100\n"
     ]
    }
   ],
   "source": [
    "# - Create a while loop that will count by 2's starting with 0 and ending at 100. Follow each number with a new line.\n",
    "\n",
    "n = 0 \n",
    "while n <= 100:\n",
    "    print(n)\n",
    "    n += 2"
   ]
  },
  {
   "cell_type": "code",
   "execution_count": 27,
   "metadata": {},
   "outputs": [
    {
     "name": "stdout",
     "output_type": "stream",
     "text": [
      "100\n",
      "95\n",
      "90\n",
      "85\n",
      "80\n",
      "75\n",
      "70\n",
      "65\n",
      "60\n",
      "55\n",
      "50\n",
      "45\n",
      "40\n",
      "35\n",
      "30\n",
      "25\n",
      "20\n",
      "15\n",
      "10\n",
      "5\n",
      "0\n",
      "-5\n",
      "-10\n"
     ]
    }
   ],
   "source": [
    "# - Alter your loop to count backwards by 5's from 100 to -10.\n",
    "n = 100\n",
    "while n >= -10:\n",
    "    print(n)\n",
    "    n -= 5\n",
    "    "
   ]
  },
  {
   "cell_type": "code",
   "execution_count": 77,
   "metadata": {},
   "outputs": [
    {
     "name": "stdout",
     "output_type": "stream",
     "text": [
      "2\n",
      "4\n",
      "16\n",
      "256\n",
      "65536\n"
     ]
    }
   ],
   "source": [
    "# - Create a while loop that starts at 2, and displays the number squared on each line while the number is less than 1,000,000.\n",
    "\n",
    "n = 2\n",
    "\n",
    "while n < 1_000_000:\n",
    "    print(n)\n",
    "    n = n ** 2\n",
    "    # n **= 2\n",
    "    # n *= n\n",
    "    # n = n * n"
   ]
  },
  {
   "cell_type": "code",
   "execution_count": 33,
   "metadata": {},
   "outputs": [
    {
     "name": "stdout",
     "output_type": "stream",
     "text": [
      "100\n",
      "95\n",
      "90\n",
      "85\n",
      "80\n",
      "75\n",
      "70\n",
      "65\n",
      "60\n",
      "55\n",
      "50\n",
      "45\n",
      "40\n",
      "35\n",
      "30\n",
      "25\n",
      "20\n",
      "15\n",
      "10\n",
      "5\n"
     ]
    }
   ],
   "source": [
    "# Write a loop that uses print to create the output shown below.\n",
    "n = 100\n",
    "while n >= 5: \n",
    "    print(n)\n",
    "    n -= 5"
   ]
  },
  {
   "cell_type": "code",
   "execution_count": 78,
   "metadata": {},
   "outputs": [
    {
     "name": "stdout",
     "output_type": "stream",
     "text": [
      "What's your number? 7\n",
      "7 x 1 = 7\n",
      "7 x 2 = 14\n",
      "7 x 3 = 21\n",
      "7 x 4 = 28\n",
      "7 x 5 = 35\n",
      "7 x 6 = 42\n",
      "7 x 7 = 49\n",
      "7 x 8 = 56\n",
      "7 x 9 = 63\n",
      "7 x 10 = 70\n"
     ]
    }
   ],
   "source": [
    "# b. For Loops\n",
    "\n",
    "#     - Write some code that prompts the user for a number, \n",
    "#       then shows a multiplication table up through 10 for that number.\n",
    "\n",
    "x = int(input(\"What's your number? \"))\n",
    "\n",
    "for i in range(1,11):\n",
    "    print(x,\"x\",i,\"=\", (x*i))\n",
    "#   print(f\"{x} x {i} = {x * i}\")"
   ]
  },
  {
   "cell_type": "code",
   "execution_count": 48,
   "metadata": {
    "scrolled": true
   },
   "outputs": [
    {
     "name": "stdout",
     "output_type": "stream",
     "text": [
      "1\n",
      "22\n",
      "333\n",
      "4444\n",
      "55555\n",
      "666666\n",
      "7777777\n",
      "88888888\n",
      "999999999\n"
     ]
    }
   ],
   "source": [
    "# Create a for loop that uses print to create the output shown below.\n",
    "\n",
    "for n in range(1,10):\n",
    "    print(str(n) * n)"
   ]
  },
  {
   "cell_type": "code",
   "execution_count": 88,
   "metadata": {
    "scrolled": true
   },
   "outputs": [
    {
     "name": "stdout",
     "output_type": "stream",
     "text": [
      "Enter an odd number between 1 and 50: 44\n",
      "Invalid inpuit: You input an even number.\n",
      "Enter an odd number between 1 and 50: 51\n",
      "Invalid Input: Input is out of range.\n",
      "Enter an odd number between 1 and 50: 33\n",
      "Here is an odd number: 1\n",
      "Here is an odd number: 3\n",
      "Here is an odd number: 5\n",
      "Here is an odd number: 7\n",
      "Here is an odd number: 9\n",
      "Here is an odd number: 11\n",
      "Here is an odd number: 13\n",
      "Here is an odd number: 15\n",
      "Here is an odd number: 17\n",
      "Here is an odd number: 19\n",
      "Here is an odd number: 21\n",
      "Here is an odd number: 23\n",
      "Here is an odd number: 25\n",
      "Here is an odd number: 27\n",
      "Here is an odd number: 29\n",
      "Here is an odd number: 31\n",
      "Yikes! Skipping number: 33\n",
      "Here is an odd number: 35\n",
      "Here is an odd number: 37\n",
      "Here is an odd number: 39\n",
      "Here is an odd number: 41\n",
      "Here is an odd number: 43\n",
      "Here is an odd number: 45\n",
      "Here is an odd number: 47\n",
      "Here is an odd number: 49\n"
     ]
    }
   ],
   "source": [
    "# c. break and continue\n",
    "\n",
    "# Prompt the user for an odd number between 1 and 50. \n",
    "# Use a loop and a break statement to continue prompting the user if they enter invalid input. \n",
    "# (Hint: use the isdigit method on strings to determine this). \n",
    "# Use a loop and the continue statement to output all the odd numbers between 1 and 50, \n",
    "# except for the number the user entered.\n",
    "\n",
    "while True:\n",
    "    user_number = input(\"Enter an odd number between 1 and 50: \")\n",
    "    if user_number.isdigit():\n",
    "        user_number = int(user_number)\n",
    "        if user_number % 2 == 0:\n",
    "            print(\"Invalid inpuit: Input is an even number.\")\n",
    "            continue\n",
    "        elif user_number > 50 or user_number < 0:\n",
    "            print(\"Invalid Input: Input is out of range.\")\n",
    "            continue\n",
    "        break\n",
    "\n",
    "i = 1\n",
    "while i <= 50:\n",
    "    if i == user_number:\n",
    "        print(f\"Yikes! Skipping number: {i}\")\n",
    "        i += 2\n",
    "        continue\n",
    "    print(f\"Here is an odd number: {i}\")\n",
    "    i += 2\n",
    "        \n",
    "\n",
    "\n",
    "    "
   ]
  },
  {
   "cell_type": "code",
   "execution_count": 93,
   "metadata": {},
   "outputs": [
    {
     "name": "stdout",
     "output_type": "stream",
     "text": [
      "Enter a positive number: 6\n",
      "6\n",
      "5\n",
      "4\n",
      "3\n",
      "2\n",
      "1\n",
      "0\n"
     ]
    }
   ],
   "source": [
    "#  The input function can be used to prompt for input and use that input in your python code. \n",
    "#  Prompt the user to enter a positive number and write a loop that counts from 0 to that number. \n",
    "#  (Hints: first make sure that the value the user entered is a valid number, \n",
    "#  also note that the input function returns a string, so you'll need to convert this to a numeric type.)\n",
    "\n",
    "#  Write a program that prompts the user for a positive integer. \n",
    "#  Next write a loop that prints out the numbers from the number the user entered down to 1.\n",
    "\n",
    "while True:\n",
    "    user_number = input(\"Enter a positive number: \")\n",
    "    if user_number.isdigit():\n",
    "        user_number = int(user_number)\n",
    "        if user_number <= 0:\n",
    "            continue\n",
    "        break\n",
    "\n",
    "# for i in range(0, user_number + 1):\n",
    "#     print(i)\n",
    "    \n",
    "for i in range(user_number, 0, -1):\n",
    "    print(i)\n",
    "\n"
   ]
  },
  {
   "cell_type": "code",
   "execution_count": null,
   "metadata": {},
   "outputs": [],
   "source": []
  },
  {
   "cell_type": "code",
   "execution_count": 96,
   "metadata": {},
   "outputs": [
    {
     "name": "stdout",
     "output_type": "stream",
     "text": [
      "1\n",
      "2\n",
      "Fizz\n",
      "4\n",
      "Buzz\n",
      "Fizz\n",
      "7\n",
      "8\n",
      "Fizz\n",
      "Buzz\n",
      "11\n",
      "Fizz\n",
      "13\n",
      "14\n",
      "FizzBuzz\n",
      "16\n",
      "17\n",
      "Fizz\n",
      "19\n",
      "Buzz\n",
      "Fizz\n",
      "22\n",
      "23\n",
      "Fizz\n",
      "Buzz\n",
      "26\n",
      "Fizz\n",
      "28\n",
      "29\n",
      "FizzBuzz\n",
      "31\n",
      "32\n",
      "Fizz\n",
      "34\n",
      "Buzz\n",
      "Fizz\n",
      "37\n",
      "38\n",
      "Fizz\n",
      "Buzz\n",
      "41\n",
      "Fizz\n",
      "43\n",
      "44\n",
      "FizzBuzz\n",
      "46\n",
      "47\n",
      "Fizz\n",
      "49\n",
      "Buzz\n",
      "Fizz\n",
      "52\n",
      "53\n",
      "Fizz\n",
      "Buzz\n",
      "56\n",
      "Fizz\n",
      "58\n",
      "59\n",
      "FizzBuzz\n",
      "61\n",
      "62\n",
      "Fizz\n",
      "64\n",
      "Buzz\n",
      "Fizz\n",
      "67\n",
      "68\n",
      "Fizz\n",
      "Buzz\n",
      "71\n",
      "Fizz\n",
      "73\n",
      "74\n",
      "FizzBuzz\n",
      "76\n",
      "77\n",
      "Fizz\n",
      "79\n",
      "Buzz\n",
      "Fizz\n",
      "82\n",
      "83\n",
      "Fizz\n",
      "Buzz\n",
      "86\n",
      "Fizz\n",
      "88\n",
      "89\n",
      "FizzBuzz\n",
      "91\n",
      "92\n",
      "Fizz\n",
      "94\n",
      "Buzz\n",
      "Fizz\n",
      "97\n",
      "98\n",
      "Fizz\n",
      "Buzz\n"
     ]
    }
   ],
   "source": [
    "# 3. Fizzbuzz\n",
    "\n",
    "# - One of the most common interview questions for entry-level programmers is the FizzBuzz test. \n",
    "# - Developed by Imran Ghory, the test is designed to test basic looping and conditional logic skills.\n",
    "\n",
    "# - Write a program that prints the numbers from 1 to 100.\n",
    "# - For multiples of three print \"Fizz\" instead of the number\n",
    "# - For the multiples of five print \"Buzz\".\n",
    "# - For numbers which are multiples of both three and five print \"FizzBuzz\".\n",
    "\n",
    "for x in range(1, 101):\n",
    "    if x % 3 == 0 and x % 5. == 0:\n",
    "        print(\"FizzBuzz\")\n",
    "    elif x % 5 == 0:\n",
    "        print(\"Buzz\")\n",
    "    elif x % 3 == 0:\n",
    "        print(\"Fizz\")\n",
    "    else:\n",
    "        print(x)\n",
    "\n"
   ]
  },
  {
   "cell_type": "code",
   "execution_count": 105,
   "metadata": {},
   "outputs": [
    {
     "name": "stdout",
     "output_type": "stream",
     "text": [
      "What number would you like to go up to? 8\n",
      "\n",
      "number | squared | cubed\n",
      "------ | ------- | -----\n",
      "     1 |       1 |     1\n",
      "     2 |       4 |     8\n",
      "     3 |       9 |    27\n",
      "     4 |      16 |    64\n",
      "     5 |      25 |   125\n",
      "     6 |      36 |   216\n",
      "     7 |      49 |   343\n",
      "     8 |      64 |   512\n"
     ]
    }
   ],
   "source": [
    "# 4. Display a table of powers.\n",
    "# \n",
    "# Prompt the user to enter an integer.\n",
    "# Display a table of squares and cubes from 1 to the value entered.\n",
    "# Ask if the user wants to continue.\n",
    "# Assume that the user will enter valid data.\n",
    "# Only continue if the user agrees to.\n",
    "\n",
    "\n",
    "user_input = int(input(\"What number would you like to go up to? \"))\n",
    "\n",
    "print()\n",
    "print(\"number | squared | cubed\")\n",
    "print(\"------ | ------- | -----\")\n",
    "for i in range(1, user_input + 1):\n",
    "    print(\"%6d | %7d | %5d\" % (i, i ** 2, i ** 3))\n"
   ]
  },
  {
   "cell_type": "code",
   "execution_count": 109,
   "metadata": {},
   "outputs": [
    {
     "name": "stdout",
     "output_type": "stream",
     "text": [
      "Please enter a number grade: 65\n",
      "D+\n",
      "Do you want to continue? y or n. y\n",
      "Please enter a number grade: 81\n",
      "B-\n",
      "Do you want to continue? y or n. y\n",
      "Please enter a number grade: 100\n",
      "A+\n",
      "Do you want to continue? y or n. n\n"
     ]
    }
   ],
   "source": [
    "\n",
    "while True:\n",
    "    numeric_grade = int(input(\"Please enter a number grade: \"))\n",
    "\n",
    "    if numeric_grade >= 97:\n",
    "        print(\"A+\")\n",
    "    elif numeric_grade >= 91:\n",
    "        print(\"A\")\n",
    "    elif numeric_grade >= 88:\n",
    "        print(\"A-\")\n",
    "    elif numeric_grade >= 86:\n",
    "        print(\"B+\")\n",
    "    elif numeric_grade >= 83:\n",
    "        print(\"B\")\n",
    "    elif numeric_grade >= 80:\n",
    "        print(\"B-\")\n",
    "    elif numeric_grade >= 77:\n",
    "        print(\"C+\")\n",
    "    elif numeric_grade >= 72:\n",
    "        print(\"C\")\n",
    "    elif numeric_grade >= 67:\n",
    "        print(\"C-\")\n",
    "    elif numeric_grade >= 65:\n",
    "        print(\"D+\")\n",
    "    elif numeric_grade >= 62:\n",
    "        print(\"D\")\n",
    "    elif numeric_grade >= 60:\n",
    "        print(\"D-\")\n",
    "    else:\n",
    "        print(\"F\")\n",
    "    wants_to_continue = input(\"Do you want to continue? y or n. \")\n",
    "    if not wants_to_continue.lower().startswith(\"y\"):\n",
    "        break"
   ]
  },
  {
   "cell_type": "code",
   "execution_count": null,
   "metadata": {},
   "outputs": [],
   "source": [
    "#.  Create a list of dictionaries where each dictionary represents a book that you have read. \n",
    "#.  Each dictionary in the list should have the keys title, author, and genre. \n",
    "#.  Loop through the list and print out information about each book.\n",
    "\n",
    "#.  Prompt the user to enter a genre, \n",
    "#.  then loop through your books list and print out the titles of all the books in that genre.\n",
    "\n",
    "\n"
   ]
  },
  {
   "cell_type": "code",
   "execution_count": null,
   "metadata": {},
   "outputs": [],
   "source": []
  },
  {
   "cell_type": "code",
   "execution_count": null,
   "metadata": {},
   "outputs": [],
   "source": []
  }
 ],
 "metadata": {
  "kernelspec": {
   "display_name": "Python 3",
   "language": "python",
   "name": "python3"
  },
  "language_info": {
   "codemirror_mode": {
    "name": "ipython",
    "version": 3
   },
   "file_extension": ".py",
   "mimetype": "text/x-python",
   "name": "python",
   "nbconvert_exporter": "python",
   "pygments_lexer": "ipython3",
   "version": "3.8.5"
  }
 },
 "nbformat": 4,
 "nbformat_minor": 4
}
